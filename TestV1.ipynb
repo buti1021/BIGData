{
 "cells": [
  {
   "cell_type": "code",
   "execution_count": 15,
   "metadata": {},
   "outputs": [],
   "source": [
    "#Die XMLs die IRSX runterlädt landen in: Local Disk/opt/conda/anaconda/lib/python3.6/site-packages/irsx/XML\n",
    "#Ist das so super wenn das File auf dem Host liegt und nicht im Cloud Storage?\n",
    "#Können wir die Files in den Cloud Storage verschieben und dann immer noch nutzen? Oder vielleicht sogar diese Umgebungsvariable setzen, dass direkt im Cloud Storage gespeichert wird?"
   ]
  },
  {
   "cell_type": "code",
   "execution_count": 42,
   "metadata": {},
   "outputs": [
    {
     "data": {
      "text/plain": [
       "('825024802', 'CA', 'Zaytoons', '83364')"
      ]
     },
     "execution_count": 42,
     "metadata": {},
     "output_type": "execute_result"
    }
   ],
   "source": [
    "#EIN Beispiel /opt/conda/anaconda/lib/python3.6/site-packages/irsx/XML/202020699349301072.xml\n",
    "from irsx.xmlrunner import XMLRunner\n",
    "xml_runner = XMLRunner()\n",
    "fil = xml_runner.run_filing(\"202020699349301072\").get_result()\n",
    "fil_res=fil[0][\"schedule_parts\"][\"returnheader990x_part_i\"]\n",
    "irs990= fil[1][\"schedule_parts\"][\"part_i\"]\n",
    "ein= fil_res[\"ein\"]\n",
    "state=fil_res[\"USAddrss_SttAbbrvtnCd\"]\n",
    "name=fil_res[\"BsnssNm_BsnssNmLn1Txt\"]\n",
    "revenue = irs990[\"CYTtlRvnAmt\"]\n",
    "\n",
    "#fil.list_schedules(), len(fil.get_result())\n",
    "#fil.get_result()\n",
    "ein, state, name, revenue"
   ]
  },
  {
   "cell_type": "code",
   "execution_count": null,
   "metadata": {},
   "outputs": [],
   "source": [
    "xml_runner.run_filing(\"201533089349301428\").get_result()#[0][\"schedule_parts\"][\"returnheader990x_part_i\"][\"ein\"]"
   ]
  },
  {
   "cell_type": "code",
   "execution_count": 5,
   "metadata": {},
   "outputs": [],
   "source": [
    "import pandas as pd\n",
    "\n",
    "df21 = pd.read_csv(\"/opt/conda/anaconda/lib/python3.6/site-packages/irsx/CSV/index_2021.csv\",index_col=False)\n",
    "object_ids = df21[\"OBJECT_ID\"].to_numpy()"
   ]
  },
  {
   "cell_type": "code",
   "execution_count": 7,
   "metadata": {},
   "outputs": [
    {
     "data": {
      "text/plain": [
       "array([202010659349301301, 202010729349300041, 202010729349300021,\n",
       "       202010729349300836, 202000669349300135, 202000669349301125,\n",
       "       202000669349301320, 202000669349301850, 202000669349300905,\n",
       "       202000669349300700, 202000669349300425, 202000679349300505,\n",
       "       202000679349300405, 202000679349300210, 202020669349300127,\n",
       "       202000729349300710, 202020689349300402, 202030699349301268,\n",
       "       202000699349300330, 202000699349300740, 202010679349300301,\n",
       "       202020699349301072, 202020699349300617, 202030709349300313,\n",
       "       202000709349301455, 202000709349300200, 202000709349300520,\n",
       "       202010699349301266, 202010699349300541, 202000719349301035,\n",
       "       202010709349300601, 202010709349301231, 202010709349300931,\n",
       "       202010709349301506, 202020719349300727, 202010719349300816,\n",
       "       202010719349301566, 202010719349301446, 202040699349300954,\n",
       "       202040669349300604, 202040709349301429, 202040719349301204,\n",
       "       202020589349300437, 202020589349300007, 202020589349301312,\n",
       "       202000529349300310, 202000529349301310, 202000529349301205,\n",
       "       202000529349300925, 202000529349300815, 202000529349300710,\n",
       "       202010529349300926, 202020529349300707, 202030529349301113,\n",
       "       202030529349300723, 202020539349300517, 202000559349300130,\n",
       "       202010559349300321, 202010559349301536, 202010559349301346,\n",
       "       202020559349300107, 202020559349301602, 202030559349300003,\n",
       "       202030559349301513, 202010569349301141, 202010569349300601,\n",
       "       202020569349301492, 202020569349301857, 202030569349300118,\n",
       "       202030569349301123, 202030569349300508, 202000579349301125,\n",
       "       202000579349300630, 202000579349300605, 202000579349300100,\n",
       "       202000579349300010, 202000579349301645, 202010579349301116,\n",
       "       202010579349300611, 202020579349300812, 202030579349300943,\n",
       "       202030579349301023, 202021369349201562, 202021369349201617,\n",
       "       202021369349201687, 202021369349201742, 202021369349201777,\n",
       "       202021369349201827, 202021369349201927, 202021369349201942,\n",
       "       202021369349202007, 202021369349202057, 202021369349202162,\n",
       "       202021369349202262, 202021379349100207, 202021379349100307,\n",
       "       202021379349100602, 202021379349200022, 202021379349200512,\n",
       "       202032549349200018])"
      ]
     },
     "execution_count": 7,
     "metadata": {},
     "output_type": "execute_result"
    }
   ],
   "source": [
    "object_ids_s = object_ids[:100]\n",
    "object_ids_s"
   ]
  },
  {
   "cell_type": "code",
   "execution_count": 43,
   "metadata": {},
   "outputs": [
    {
     "name": "stdout",
     "output_type": "stream",
     "text": [
      "452772761 NJ CAMDEN'S CHARTER SCHOOL 5148336\n",
      "237061115 MS JACKSON STATE UNIVERSITY 10386900\n",
      "344427516 OH TIFFIN UNIVERSITY 64789812\n",
      "840865247 CO NETWORK MINISTRIES INC 218029\n",
      "205647589 SC FAMILY PROMISE OF BEAUFORT COUNTY 482668\n",
      "311131742 CA Pacific Local Masters Swimming Committee 143394\n",
      "271969337 OR ST MARYS OUTREACH INC 105375\n",
      "474824100 TN PROJECT HEART 155603\n",
      "930955648 WA COLUMBIA GORGE INTERPRETIVE CENTER 377646\n",
      "270454243 CA CHILDREN OF CONSERVATION INC 132109\n",
      "631260575 SC BOYKIN RESCUE INC 309400\n",
      "208965928 MA SAINT ANTHONY SHRINE FOUNDATION 18497\n",
      "830935537 WA EVERETT LAW ASSOCIATION 1120793\n",
      "010890508 NY Recycle for Education Inc 618434\n",
      "205091342 IA ASSOCIATES SUPPORTED HOUSING 88462\n",
      "593833885 OK Pushmataha Counseling Services Inc 322235\n",
      "320041992 NJ NORTH BAPTIST CHURCH A NJ NONPROFIT CORPORATION 74999\n",
      "030349894 VT EKWANOK SCHOLARSHIP TRUST INC 172737\n",
      "832407599 NY A Better Life Foundation USA Inc 209545\n",
      "832667234 AL NEW BEGINNINGS RECOVERY INC 483318\n",
      "453759477 NY UNITED MILITARY VETERANS OF KINGS 84963\n",
      "825024802 CA Zaytoons 83364\n",
      "900983595 TN Feed The Needy 0\n",
      "474323905 NY LOVE LIVING AT HOME INC 134540\n",
      "541211812 VA MOUNT HERMON VOLUNTEER 256644\n",
      "260610335 TX HOUSTON HISPANIC SCHOLARSHIP FUND 144\n",
      "454508561 NE KIMMEL ORCHARD AND VINEYARD 1304951\n",
      "471057408 TX GOSWAMI EDUCATION 316215\n",
      "582190407 MS TIMOTHY WILKES EVANGELISTIC SERVICE 103243\n",
      "900528474 NJ CAPE MAY VOLUNTEER FIRE DEP'T 115611\n",
      "522362291 MD NEWARK VOLUNTEER FIRE COMPANY 648602\n",
      "830611711 GA ALL IN FOR MILLER INC 47408\n",
      "620876593 TN FAMILY RESOURCE AGENCY INC 7975397\n",
      "351985042 IN CARE FOR KIDS FOUNDATION INC 16021\n",
      "042695655 MA COMPREHENSIVE MENTAL HEALTH SYSTEMS INC 10600911\n",
      "820918164 UT Center for Genomic Interpretation 273713\n",
      "231352674 PA Saint Joseph's University 321332282\n",
      "832382398 CA FRANK FERNICOLA CHARITABLE FOUNDATION 1148\n",
      "330683684 CA California International Business University 575128\n",
      "237070410 MI WEST INDIES SELF HELP INC 277525\n",
      "474703819 CA HOI BAO TRO DONG NU TY CHUA GIESU TINH THUONG 153331\n",
      "600001960 OH MARYSVILLE HOUSING III INC 122212\n",
      "465664405 CA Home Base Ranch Inc 281222\n",
      "341955032 OH Camp Patmos Inc 625104\n",
      "581966791 MS QUALITY MENTAL HEALTH INC 659094\n",
      "742673397 TX BELL COUNTY FIRE CHIEF'S ASSOCIATION 347650\n",
      "813970919 NJ NEW JERSEY KOREAN AMERICAN MUTUAL 486142\n",
      "204419159 NY CHENANGO RIVER THEATRE INC 243720\n",
      "463206226 TN Camp Conquest 263292\n",
      "471468519 IL ILLINOIS STATE ALLIANCE OF YMCAS 536840\n",
      "465126166 TX CANCER CURES 4 KIDS 324777\n",
      "651049354 FL FRANK CIARAMELLA INC 904705\n",
      "630585997 AL SOUTH CHOCTAW ACADEMY INC 916429\n",
      "232748101 PA BIBLICAL FAMILY MINISTRIES INC 75726\n",
      "382613035 MI FATHER CLEMENT H KERN FOUNDATION 56768\n",
      "751971885 TX LAMAR COUNTY JUNIOR LIVESTOCK SHOW 329578\n",
      "251128765 PA Mars Area Public Library Association 262736\n",
      "061214651 CT Yale Law School Learning Center Inc 376019\n",
      "824376559 CO Bright Future for Children 75052\n",
      "753140593 MA NETWORK TECHNOLOGY ACADEMY 497132\n",
      "811447115 NY MENDED SWORDS LTD 31912\n",
      "721318799 LA CENTENNIAL CULTURAL CENTER INC 31847\n",
      "208586911 MI TEL-A-VILLAGE INTERNATIONAL INC 87572\n",
      "833596260 FL BOYS AND GIRLS CLUBS OF PALM BEACH 5719080\n",
      "561152417 NC MEALS ON WHEELS OF ROWAN INC 711990\n",
      "471206556 AK Buddha Catu Parisa Foundation 41841\n",
      "010742567 NY COMMUNITY HEALTH AND EDUCATION FOR RURAL 131032\n",
      "823490802 CA CUSCATLECOS EN EL EXTERIOR TKD INC 11040\n",
      "474470326 FL CHRISTY'S CAUSE INC 91980\n",
      "271709541 NC Yadkin Valley Museum Inc 4878\n",
      "161760220 CA Fund for Sustainable Tomorrows 277595\n",
      "570725526 SC RUTH WINN WICKWARE FOUNDATION 7181\n",
      "611216109 KY Grow and Learn Cdc Incorporated 862110\n",
      "550756137 WV SOUTH CENTRAL EDUCATION DEVELOPMENT INC 61224\n",
      "824993198 NJ OM FOUNDATION INC 100701\n",
      "016024421 ME TOWN OF MOUNT DESERT MEDICAL CENTER 111116\n",
      "640855422 MS MISSISSIPPI CATTLEMEN'S FOUNDATION 77392\n",
      "824892350 KS SENT INC 292627\n",
      "752156819 TX MINEOLA KINDNESS KOTTAGE INC 340609\n",
      "731632750 AL ALABAMA SCOTTISH RITE FOUNDATION 193246\n",
      "464408086 CA SAN DIEGO EXPLORATORY FOUNDATION 2851\n",
      "460343414 SD BASEBALL PARENTS INC 517835\n"
     ]
    },
    {
     "ename": "KeyError",
     "evalue": "'part_i'",
     "output_type": "error",
     "traceback": [
      "\u001b[0;31m---------------------------------------------------------------------------\u001b[0m",
      "\u001b[0;31mKeyError\u001b[0m                                  Traceback (most recent call last)",
      "\u001b[0;32m<ipython-input-43-f033d7f70e8c>\u001b[0m in \u001b[0;36m<module>\u001b[0;34m\u001b[0m\n\u001b[1;32m      5\u001b[0m     \u001b[0;31m#fil = xml_runner.run_filing(\"202020699349301072\").get_result()\u001b[0m\u001b[0;34m\u001b[0m\u001b[0;34m\u001b[0m\u001b[0;34m\u001b[0m\u001b[0m\n\u001b[1;32m      6\u001b[0m     \u001b[0mfil_res\u001b[0m\u001b[0;34m=\u001b[0m\u001b[0mfil\u001b[0m\u001b[0;34m[\u001b[0m\u001b[0;36m0\u001b[0m\u001b[0;34m]\u001b[0m\u001b[0;34m[\u001b[0m\u001b[0;34m\"schedule_parts\"\u001b[0m\u001b[0;34m]\u001b[0m\u001b[0;34m[\u001b[0m\u001b[0;34m\"returnheader990x_part_i\"\u001b[0m\u001b[0;34m]\u001b[0m\u001b[0;34m\u001b[0m\u001b[0;34m\u001b[0m\u001b[0m\n\u001b[0;32m----> 7\u001b[0;31m     \u001b[0mirs990\u001b[0m\u001b[0;34m=\u001b[0m \u001b[0mfil\u001b[0m\u001b[0;34m[\u001b[0m\u001b[0;36m1\u001b[0m\u001b[0;34m]\u001b[0m\u001b[0;34m[\u001b[0m\u001b[0;34m\"schedule_parts\"\u001b[0m\u001b[0;34m]\u001b[0m\u001b[0;34m[\u001b[0m\u001b[0;34m\"part_i\"\u001b[0m\u001b[0;34m]\u001b[0m\u001b[0;34m\u001b[0m\u001b[0;34m\u001b[0m\u001b[0m\n\u001b[0m\u001b[1;32m      8\u001b[0m     \u001b[0mein\u001b[0m\u001b[0;34m=\u001b[0m \u001b[0mfil_res\u001b[0m\u001b[0;34m[\u001b[0m\u001b[0;34m\"ein\"\u001b[0m\u001b[0;34m]\u001b[0m\u001b[0;34m\u001b[0m\u001b[0;34m\u001b[0m\u001b[0m\n\u001b[1;32m      9\u001b[0m     \u001b[0mstate\u001b[0m\u001b[0;34m=\u001b[0m\u001b[0mfil_res\u001b[0m\u001b[0;34m[\u001b[0m\u001b[0;34m\"USAddrss_SttAbbrvtnCd\"\u001b[0m\u001b[0;34m]\u001b[0m\u001b[0;34m\u001b[0m\u001b[0;34m\u001b[0m\u001b[0m\n",
      "\u001b[0;31mKeyError\u001b[0m: 'part_i'"
     ]
    }
   ],
   "source": [
    "from irsx.xmlrunner import XMLRunner\n",
    "xml_runner = XMLRunner()\n",
    "for e in object_ids_s:\n",
    "    fil= xml_runner.run_filing(e).get_result()\n",
    "    #fil = xml_runner.run_filing(\"202020699349301072\").get_result()\n",
    "    fil_res=fil[0][\"schedule_parts\"][\"returnheader990x_part_i\"]\n",
    "    irs990= fil[1][\"schedule_parts\"][\"part_i\"]\n",
    "    ein= fil_res[\"ein\"]\n",
    "    state=fil_res[\"USAddrss_SttAbbrvtnCd\"]\n",
    "    name=fil_res[\"BsnssNm_BsnssNmLn1Txt\"]\n",
    "    revenue = irs990[\"CYTtlRvnAmt\"]\n",
    "    print(ein, state, name, revenue)"
   ]
  },
  {
   "cell_type": "code",
   "execution_count": null,
   "metadata": {},
   "outputs": [],
   "source": [
    "!cat /opt/conda/anaconda/lib/python3.6/site-packages/irsx/CSV/index_2021.csv"
   ]
  }
 ],
 "metadata": {
  "kernelspec": {
   "display_name": "Python 3",
   "language": "python",
   "name": "python3"
  },
  "language_info": {
   "codemirror_mode": {
    "name": "ipython",
    "version": 3
   },
   "file_extension": ".py",
   "mimetype": "text/x-python",
   "name": "python",
   "nbconvert_exporter": "python",
   "pygments_lexer": "ipython3",
   "version": "3.8.12"
  }
 },
 "nbformat": 4,
 "nbformat_minor": 4
}
