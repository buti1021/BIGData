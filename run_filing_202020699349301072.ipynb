{
 "cells": [
  {
   "cell_type": "code",
   "execution_count": 1,
   "metadata": {},
   "outputs": [
    {
     "name": "stdout",
     "output_type": "stream",
     "text": [
      "825024802 CA Zaytoons 83364\n"
     ]
    }
   ],
   "source": [
    "from irsx.xmlrunner import XMLRunner\n",
    "xml_runner = XMLRunner()\n",
    "\n",
    "filing = xml_runner.run_filing(\"202020699349301072\")\n",
    "schedules = filing.list_schedules()\n",
    "#print(schedules)\n",
    "if \"ReturnHeader990x\" in schedules:\n",
    "    header = filing.get_parsed_sked(\"ReturnHeader990x\")\n",
    "    #print(len(header))\n",
    "    header_part_i = header[0][\"schedule_parts\"][\"returnheader990x_part_i\"]\n",
    "    #print(header_part_i)\n",
    "    ein = header_part_i[\"ein\"]\n",
    "    state = header_part_i[\"USAddrss_SttAbbrvtnCd\"]\n",
    "    name = header_part_i[\"BsnssNm_BsnssNmLn1Txt\"]\n",
    "    #print(ein, state, name)\n",
    "\n",
    "if \"IRS990\" in schedules:\n",
    "    irs990 = filing.get_parsed_sked(\"IRS990\")\n",
    "    #print(len(irs990))\n",
    "    irs990_part_i = irs990[0][\"schedule_parts\"][\"part_i\"]\n",
    "    revenue = irs990_part_i[\"CYTtlRvnAmt\"]\n",
    "    #print(revenue)\n",
    "\n",
    "print(ein, state, name, revenue)"
   ]
  }
 ],
 "metadata": {
  "kernelspec": {
   "display_name": "Python 3",
   "language": "python",
   "name": "python3"
  },
  "language_info": {
   "codemirror_mode": {
    "name": "ipython",
    "version": 3
   },
   "file_extension": ".py",
   "mimetype": "text/x-python",
   "name": "python",
   "nbconvert_exporter": "python",
   "pygments_lexer": "ipython3",
   "version": "3.8.12"
  }
 },
 "nbformat": 4,
 "nbformat_minor": 4
}
