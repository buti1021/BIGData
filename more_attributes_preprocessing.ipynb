{
 "cells": [
  {
   "cell_type": "code",
   "execution_count": 1,
   "metadata": {},
   "outputs": [
    {
     "name": "stdout",
     "output_type": "stream",
     "text": [
      "Getting index file for year: 2021 remote=https://s3.amazonaws.com/irs-form-990/index_2021.csv local=/opt/conda/miniconda3/lib/python3.8/site-packages/irsx/CSV/index_2021.csv\n",
      "Beginning streaming download of https://s3.amazonaws.com/irs-form-990/index_2021.csv\n",
      "Total file size: 55.76 MB\n",
      "Download completed to /opt/conda/miniconda3/lib/python3.8/site-packages/irsx/CSV/index_2021.csv in 0:00:07.584222\n"
     ]
    }
   ],
   "source": [
    "#Download Index file\n",
    "!irsx_index --year=2021 --verbose"
   ]
  },
  {
   "cell_type": "code",
   "execution_count": 2,
   "metadata": {},
   "outputs": [
    {
     "name": "stdout",
     "output_type": "stream",
     "text": [
      "time: 382 µs (started: 2022-02-06 10:00:13 +00:00)\n"
     ]
    }
   ],
   "source": [
    "# To have time runtime for cells\n",
    "try:\n",
    "    %load_ext autotime\n",
    "except:\n",
    "    !pip install ipython-autotime\n",
    "    %load_ext autotime"
   ]
  },
  {
   "cell_type": "code",
   "execution_count": 1,
   "metadata": {},
   "outputs": [],
   "source": [
    "from pyspark.sql.session import SparkSession\n",
    "import pandas as pd\n",
    "from pyspark.sql.types import StringType\n",
    "\n",
    "spark = SparkSession.builder.getOrCreate()\n",
    "\n",
    "path = \"/opt/conda/miniconda3/lib/python3.8/site-packages/irsx/CSV/index_2021.csv\"\n",
    "df21 = pd.read_csv(path, index_col=False, dtype=str) # read all as string, not beautiful but we only need object id anyways\n",
    "\n",
    "sdf = spark.createDataFrame(df21[\"OBJECT_ID\"], StringType())"
   ]
  },
  {
   "cell_type": "code",
   "execution_count": 2,
   "metadata": {},
   "outputs": [
    {
     "data": {
      "text/plain": [
       "<function __main__.<lambda>(z)>"
      ]
     },
     "execution_count": 2,
     "metadata": {},
     "output_type": "execute_result"
    }
   ],
   "source": [
    "from irsx.xmlrunner import XMLRunner\n",
    "from pyspark.sql.types import StringType, StructType, StructField, IntegerType\n",
    "from pyspark.sql.functions import udf\n",
    "\n",
    "xml_runner = XMLRunner()\n",
    "def transform_data(e):\n",
    "    try:\n",
    "        filing = xml_runner.run_filing(e)\n",
    "        schedules = filing.list_schedules()\n",
    "    except:\n",
    "        print(f\"Transform error for id {e}\")\n",
    "        return [\"\",\"\",\"\",\"\",0, 0, 0, 0, 0, 0,0, 0]\n",
    "    \n",
    "    ein = 0\n",
    "    state = 0\n",
    "    name = 0\n",
    "    revenue = 0\n",
    "    revenueEZ = 0\n",
    "    vol_cnt, empl_cnt, rvn_ls_exp, liab_eoy, liab_boy,assts_eoy, assts_boy = 0, 0, 0, 0, 0,0, 0\n",
    "    \n",
    "    if \"ReturnHeader990x\" in schedules:\n",
    "        header = filing.get_parsed_sked(\"ReturnHeader990x\")\n",
    "        header_part_i = header[0][\"schedule_parts\"][\"returnheader990x_part_i\"]\n",
    "        ein = header_part_i[\"ein\"]\n",
    "        state = header_part_i.get(\"USAddrss_SttAbbrvtnCd\", \"XX\")\n",
    "        name = header_part_i[\"BsnssNm_BsnssNmLn1Txt\"]\n",
    "        \n",
    "    if \"IRS990EZ\" in schedules:\n",
    "        irs990ez = filing.get_parsed_sked(\"IRS990EZ\")\n",
    "        irs990ez_part_i = irs990ez[0][\"schedule_parts\"].get(\"ez_part_i\", None)\n",
    "        if irs990ez_part_i:\n",
    "            revenueEZ = irs990ez_part_i.get(\"TtlRvnAmt\", 0)        \n",
    "    \n",
    "    if \"IRS990\" in schedules:\n",
    "        irs990 = filing.get_parsed_sked(\"IRS990\")\n",
    "        irs990_part_i = irs990[0][\"schedule_parts\"][\"part_i\"]\n",
    "        revenue = irs990_part_i[\"CYTtlRvnAmt\"]\n",
    "        vol_cnt = int(irs990_part_i.get(\"TtlVlntrsCnt\", 0))\n",
    "        empl_cnt = int(irs990_part_i.get(\"TtlEmplyCnt\", 0))\n",
    "        rvn_ls_exp = int(irs990_part_i.get(\"CYRvnsLssExpnssAmt\", 0))\n",
    "        liab_eoy = int(irs990_part_i.get(\"TtlLbltsEOYAmt\", 0))\n",
    "        liab_boy = int(irs990_part_i.get(\"TtlLbltsBOYAmt\", 0))\n",
    "        assts_eoy = int(irs990_part_i.get(\"TtlAsstsEOYAmt\", 0))\n",
    "        assts_boy = int(irs990_part_i.get(\"TtlAsstsBOYAmt\", 0))\n",
    "\n",
    "\n",
    "\n",
    "    \n",
    "    revenue = int(revenue) + int(revenueEZ)\n",
    "    return [e, ein, state, name, revenue, vol_cnt, empl_cnt, rvn_ls_exp, liab_eoy, liab_boy,assts_eoy, assts_boy ]\n",
    "     \n",
    "    \n",
    "my_schema = StructType([\n",
    "    StructField(\"ObjectID\", StringType(), nullable=False),\n",
    "    StructField(\"EIN\", StringType(), nullable=False),\n",
    "    StructField(\"State\", StringType(), nullable=False),\n",
    "    StructField(\"Name\", StringType(), nullable=False),\n",
    "    StructField(\"Revenue\", IntegerType(), nullable=False),\n",
    "    StructField(\"TtlVlntrsCnt\", IntegerType(), nullable=False),\n",
    "    StructField(\"TtlEmplyCnt\", IntegerType(), nullable=False),\n",
    "    StructField(\"CYRvnsLssExpnssAmt\", IntegerType(), nullable=False),\n",
    "    StructField(\"TtlLbltsEOYAmt\", IntegerType(), nullable=False),\n",
    "    StructField(\"TtlLbltsBOYAmt\", IntegerType(), nullable=False),\n",
    "    StructField(\"TtlAsstsEOYAmt\", IntegerType(), nullable=False),\n",
    "    StructField(\"TtlAsstsBOYAmt\", IntegerType(), nullable=False),\n",
    "])\n",
    "\n",
    "spark_transform_data = udf(lambda z: transform_data(z), my_schema)\n",
    "spark.udf.register(\"spark_transform_data\", spark_transform_data)"
   ]
  },
  {
   "cell_type": "code",
   "execution_count": 15,
   "metadata": {},
   "outputs": [
    {
     "ename": "TypeError",
     "evalue": "string indices must be integers",
     "output_type": "error",
     "traceback": [
      "\u001b[0;31m---------------------------------------------------------------------------\u001b[0m",
      "\u001b[0;31mTypeError\u001b[0m                                 Traceback (most recent call last)",
      "\u001b[0;32m/tmp/ipykernel_3040/2965430301.py\u001b[0m in \u001b[0;36m<module>\u001b[0;34m\u001b[0m\n\u001b[1;32m     12\u001b[0m \u001b[0;34m\u001b[0m\u001b[0m\n\u001b[1;32m     13\u001b[0m \u001b[0;32mfor\u001b[0m \u001b[0me\u001b[0m \u001b[0;32min\u001b[0m \u001b[0mfiling\u001b[0m\u001b[0;34m.\u001b[0m\u001b[0mlist_schedules\u001b[0m\u001b[0;34m(\u001b[0m\u001b[0;34m)\u001b[0m\u001b[0;34m:\u001b[0m\u001b[0;34m\u001b[0m\u001b[0;34m\u001b[0m\u001b[0m\n\u001b[0;32m---> 14\u001b[0;31m     \u001b[0mchilds\u001b[0m \u001b[0;34m=\u001b[0m \u001b[0mrecurse\u001b[0m\u001b[0;34m(\u001b[0m\u001b[0mfiling\u001b[0m\u001b[0;34m.\u001b[0m\u001b[0mget_parsed_sked\u001b[0m\u001b[0;34m(\u001b[0m\u001b[0me\u001b[0m\u001b[0;34m)\u001b[0m\u001b[0;34m[\u001b[0m\u001b[0;36m0\u001b[0m\u001b[0;34m]\u001b[0m\u001b[0;34m)\u001b[0m\u001b[0;34m\u001b[0m\u001b[0;34m\u001b[0m\u001b[0m\n\u001b[0m\u001b[1;32m     15\u001b[0m     \u001b[0mprint\u001b[0m\u001b[0;34m(\u001b[0m\u001b[0mrecurse\u001b[0m\u001b[0;34m)\u001b[0m\u001b[0;34m\u001b[0m\u001b[0;34m\u001b[0m\u001b[0m\n",
      "\u001b[0;32m/tmp/ipykernel_3040/2965430301.py\u001b[0m in \u001b[0;36mrecurse\u001b[0;34m(dict)\u001b[0m\n\u001b[1;32m      8\u001b[0m     \u001b[0;32mfor\u001b[0m \u001b[0mkey\u001b[0m \u001b[0;32min\u001b[0m \u001b[0mdict\u001b[0m\u001b[0;34m:\u001b[0m\u001b[0;34m\u001b[0m\u001b[0;34m\u001b[0m\u001b[0m\n\u001b[1;32m      9\u001b[0m         \u001b[0mresult\u001b[0m\u001b[0;34m.\u001b[0m\u001b[0mappend\u001b[0m\u001b[0;34m(\u001b[0m\u001b[0mkey\u001b[0m\u001b[0;34m)\u001b[0m\u001b[0;34m\u001b[0m\u001b[0;34m\u001b[0m\u001b[0m\n\u001b[0;32m---> 10\u001b[0;31m         \u001b[0mresult\u001b[0m\u001b[0;34m.\u001b[0m\u001b[0mextend\u001b[0m\u001b[0;34m(\u001b[0m\u001b[0mrecurse\u001b[0m\u001b[0;34m(\u001b[0m\u001b[0mdict\u001b[0m\u001b[0;34m[\u001b[0m\u001b[0mkey\u001b[0m\u001b[0;34m]\u001b[0m\u001b[0;34m)\u001b[0m\u001b[0;34m)\u001b[0m\u001b[0;34m\u001b[0m\u001b[0;34m\u001b[0m\u001b[0m\n\u001b[0m\u001b[1;32m     11\u001b[0m     \u001b[0;32mreturn\u001b[0m \u001b[0mresult\u001b[0m\u001b[0;34m\u001b[0m\u001b[0;34m\u001b[0m\u001b[0m\n\u001b[1;32m     12\u001b[0m \u001b[0;34m\u001b[0m\u001b[0m\n",
      "\u001b[0;32m/tmp/ipykernel_3040/2965430301.py\u001b[0m in \u001b[0;36mrecurse\u001b[0;34m(dict)\u001b[0m\n\u001b[1;32m      8\u001b[0m     \u001b[0;32mfor\u001b[0m \u001b[0mkey\u001b[0m \u001b[0;32min\u001b[0m \u001b[0mdict\u001b[0m\u001b[0;34m:\u001b[0m\u001b[0;34m\u001b[0m\u001b[0;34m\u001b[0m\u001b[0m\n\u001b[1;32m      9\u001b[0m         \u001b[0mresult\u001b[0m\u001b[0;34m.\u001b[0m\u001b[0mappend\u001b[0m\u001b[0;34m(\u001b[0m\u001b[0mkey\u001b[0m\u001b[0;34m)\u001b[0m\u001b[0;34m\u001b[0m\u001b[0;34m\u001b[0m\u001b[0m\n\u001b[0;32m---> 10\u001b[0;31m         \u001b[0mresult\u001b[0m\u001b[0;34m.\u001b[0m\u001b[0mextend\u001b[0m\u001b[0;34m(\u001b[0m\u001b[0mrecurse\u001b[0m\u001b[0;34m(\u001b[0m\u001b[0mdict\u001b[0m\u001b[0;34m[\u001b[0m\u001b[0mkey\u001b[0m\u001b[0;34m]\u001b[0m\u001b[0;34m)\u001b[0m\u001b[0;34m)\u001b[0m\u001b[0;34m\u001b[0m\u001b[0;34m\u001b[0m\u001b[0m\n\u001b[0m\u001b[1;32m     11\u001b[0m     \u001b[0;32mreturn\u001b[0m \u001b[0mresult\u001b[0m\u001b[0;34m\u001b[0m\u001b[0;34m\u001b[0m\u001b[0m\n\u001b[1;32m     12\u001b[0m \u001b[0;34m\u001b[0m\u001b[0m\n",
      "\u001b[0;31mTypeError\u001b[0m: string indices must be integers"
     ]
    }
   ],
   "source": [
    "from irsx.xmlrunner import XMLRunner\n",
    "# Try to find out how many tags are in that file, not working\n",
    "xml_runner = XMLRunner()\n",
    "filing = xml_runner.run_filing(\"202021359349301552\")\n",
    "\n",
    "def recurse(dict):\n",
    "    result = []\n",
    "    for key in dict:\n",
    "        result.append(key)\n",
    "        result.extend(recurse(dict[key]))\n",
    "    return result\n",
    "\n",
    "for e in filing.list_schedules():\n",
    "    childs = recurse(filing.get_parsed_sked(e)[0])\n",
    "    print(recurse)"
   ]
  },
  {
   "cell_type": "code",
   "execution_count": 23,
   "metadata": {},
   "outputs": [
    {
     "data": {
      "text/plain": [
       "['202032549349200018',\n",
       " '223697708',\n",
       " 'NJ',\n",
       " 'NUTLEY LINCOLN SCHOOL P T O',\n",
       " 90267,\n",
       " 0,\n",
       " 0,\n",
       " 0,\n",
       " 0,\n",
       " 0,\n",
       " 0,\n",
       " 0]"
      ]
     },
     "execution_count": 23,
     "metadata": {},
     "output_type": "execute_result"
    },
    {
     "name": "stdout",
     "output_type": "stream",
     "text": [
      "time: 7.11 ms (started: 2022-02-02 11:16:45 +00:00)\n"
     ]
    }
   ],
   "source": [
    "transform_data(\"202032549349200018\")"
   ]
  },
  {
   "cell_type": "code",
   "execution_count": null,
   "metadata": {},
   "outputs": [
    {
     "name": "stderr",
     "output_type": "stream",
     "text": [
      "                                                                                \r"
     ]
    }
   ],
   "source": [
    "# Sample\n",
    "small_sdf = sdf.sample(0.4, seed=43).repartition(10)\n",
    "anz = small_sdf.count()\n",
    "print(anz)\n",
    "small_sdf2 = small_sdf.withColumn('valuelist', spark_transform_data('value')).select(\"valuelist.*\")\n",
    "#small_sdf2.show()\n",
    "small_sdf.explain()\n",
    "small_sdf2.toPandas().to_csv(f\"BIGData/{anz}.csv\", index=None)"
   ]
  },
  {
   "cell_type": "code",
   "execution_count": 38,
   "metadata": {},
   "outputs": [
    {
     "name": "stderr",
     "output_type": "stream",
     "text": [
      "22/02/02 11:34:35 WARN org.apache.spark.scheduler.TaskSetManager: Stage 45 contains a task of very large size (2076 KiB). The maximum recommended task size is 1000 KiB.\n"
     ]
    },
    {
     "name": "stdout",
     "output_type": "stream",
     "text": [
      "184781\n",
      "== Physical Plan ==\n",
      "*(2) Project [pythonUDF0#721.ObjectID AS ObjectID#697, pythonUDF0#721.EIN AS EIN#698, pythonUDF0#721.State AS State#699, pythonUDF0#721.Name AS Name#700, pythonUDF0#721.Revenue AS Revenue#701, pythonUDF0#721.TtlVlntrsCnt AS TtlVlntrsCnt#702, pythonUDF0#721.TtlEmplyCnt AS TtlEmplyCnt#703, pythonUDF0#721.CYRvnsLssExpnssAmt AS CYRvnsLssExpnssAmt#704, pythonUDF0#721.TtlLbltsEOYAmt AS TtlLbltsEOYAmt#705, pythonUDF0#721.TtlLbltsBOYAmt AS TtlLbltsBOYAmt#706, pythonUDF0#721.TtlAsstsEOYAmt AS TtlAsstsEOYAmt#707, pythonUDF0#721.TtlAsstsBOYAmt AS TtlAsstsBOYAmt#708]\n",
      "+- BatchEvalPython [<lambda>(value#685)], [pythonUDF0#721]\n",
      "   +- *(1) Scan ExistingRDD[value#685]\n",
      "\n",
      "\n"
     ]
    },
    {
     "name": "stderr",
     "output_type": "stream",
     "text": [
      "22/02/02 11:34:36 WARN org.apache.spark.scheduler.TaskSetManager: Stage 48 contains a task of very large size (2076 KiB). The maximum recommended task size is 1000 KiB.\n",
      "                                                                                \r"
     ]
    },
    {
     "name": "stdout",
     "output_type": "stream",
     "text": [
      "time: 14min 23s (started: 2022-02-02 11:34:34 +00:00)\n"
     ]
    }
   ],
   "source": [
    "# full df\n",
    "anz = sdf.count()\n",
    "print(anz)\n",
    "sdf2 = sdf.withColumn('valuelist', spark_transform_data('value')).select(\"valuelist.*\")\n",
    "sdf2.explain()\n",
    "pdf = sdf2.toPandas()\n",
    "pdf.to_csv(f\"hdfs://big-spark-cluster-m/user/root/{anz}.csv\", index=False)\n",
    "pdf.to_parquet(f\"hdfs://big-spark-cluster-m/user/root/{anz}.parquet\", index=False)\n"
   ]
  },
  {
   "cell_type": "markdown",
   "metadata": {},
   "source": [
    "### Zeiten von erfolgreichen Läufen\n",
    "\n",
    "|Anzahl | Zeit| Kommentar |  \n",
    "-------|--------|---------------\n",
    "|4710 | time: 2min 44s (started: 2022-01-17 18:46:15 +00:00) | erster Versuch (zusätzlicher Zeitbedarf für Sampling  & lokal)|\n",
    "|46099| time: 12min 22s (started: 2022-01-17 20:42:31 +00:00) | erster Versuch mit ErrorHandling (zusätzlicher Zeitbedarf für Sampling & lokal)|\n",
    "|184781| time: 1h 14min 7s (started: 2022-01-25 12:37:15 +00:00) | -  (zusätzlicher Zeitbedarf für Sampling & lokal)|\n",
    "|184781| time: 14min 23s (started: 2022-02-02 11:34:34 +00:00) | mehr Attribute, dafür kein Samplen mehr sonder direkt beim Einlesen, speichern in HDFS|"
   ]
  },
  {
   "cell_type": "markdown",
   "metadata": {},
   "source": [
    "## Start a Sparkession"
   ]
  },
  {
   "cell_type": "markdown",
   "metadata": {},
   "source": [
    "## Einlesen des Files  \n",
    "Das File kann entweder lokal oder mittels hdfs eingelesen werden  \n",
    "Falls das File lokal eingelesen wird muss es auf jedem Node vorhanden sein, deswegen empfiehlt sich die Verwendung von HDFS "
   ]
  },
  {
   "cell_type": "code",
   "execution_count": 1,
   "metadata": {},
   "outputs": [],
   "source": [
    "from pyspark.sql.session import SparkSession\n",
    "spark2 = SparkSession.builder.appName(\"Test1\").getOrCreate()"
   ]
  },
  {
   "cell_type": "code",
   "execution_count": 3,
   "metadata": {},
   "outputs": [
    {
     "name": "stderr",
     "output_type": "stream",
     "text": [
      "                                                                                \r"
     ]
    },
    {
     "name": "stdout",
     "output_type": "stream",
     "text": [
      "root\n",
      " |-- _c0: integer (nullable = true)\n",
      " |-- ObjectID: long (nullable = true)\n",
      " |-- EIN: integer (nullable = true)\n",
      " |-- State: string (nullable = true)\n",
      " |-- Name: string (nullable = true)\n",
      " |-- Revenue: integer (nullable = true)\n",
      "\n"
     ]
    },
    {
     "data": {
      "text/plain": [
       "(pyspark.sql.dataframe.DataFrame,\n",
       " None,\n",
       " [Row(_c0=0, ObjectID=202023169349201962, EIN=113463183, State='NY', Name='77th PRECINT COMMUNITY COUNCIL INC', Revenue=3800),\n",
       "  Row(_c0=1, ObjectID=202013049349200436, EIN=202347170, State='MD', Name='SOUTHERN MARYLAND FAST PITCH ORGANIZATION', Revenue=25259),\n",
       "  Row(_c0=2, ObjectID=202120609349300112, EIN=475378165, State='CA', Name='OAKLAND WINE FESTIVAL AND FOUNDATION', Revenue=225),\n",
       "  Row(_c0=3, ObjectID=202100489349300620, EIN=582003159, State='AR', Name='TOTAL LIFE COMMUNITY EDUC FOUNDATION', Revenue=363307),\n",
       "  Row(_c0=4, ObjectID=202023189349306407, EIN=760536563, State='CT', Name='BOZRAH INTERNATIONAL MINISTRIES INC', Revenue=927063)])"
      ]
     },
     "execution_count": 3,
     "metadata": {},
     "output_type": "execute_result"
    },
    {
     "name": "stdout",
     "output_type": "stream",
     "text": [
      "time: 11.7 s (started: 2022-02-06 10:00:19 +00:00)\n"
     ]
    }
   ],
   "source": [
    "fs_path = \"file:///revenue_2021_100.csv\" #local_fs\n",
    "hdfs_path = \"hdfs://big-spark-cluster-m/user/root/46099.csv\" # hdfs\n",
    "df = spark2.read.csv(hdfs_path, header=True, inferSchema=True)\n",
    "\n",
    "type(df), df.printSchema(), df.head(5)"
   ]
  },
  {
   "cell_type": "markdown",
   "metadata": {},
   "source": [
    "## Simple Aggregation\n",
    "Das DF kann entweder direkt aggregiert werden, oder vorher in ein RDD umgewandelt werden"
   ]
  },
  {
   "cell_type": "code",
   "execution_count": 1,
   "metadata": {},
   "outputs": [
    {
     "name": "stdout",
     "output_type": "stream",
     "text": [
      ",ObjectID,EIN,State,Name,Revenue\n",
      "0,202023169349201962,113463183,NY,77th PRECINT COMMUNITY COUNCIL INC,3800\n",
      "1,202013049349200436,202347170,MD,SOUTHERN MARYLAND FAST PITCH ORGANIZATION,25259\n",
      "2,202120609349300112,475378165,CA,OAKLAND WINE FESTIVAL AND FOUNDATION,225\n",
      "3,202100489349300620,582003159,AR,TOTAL LIFE COMMUNITY EDUC FOUNDATION,363307\n",
      "4,202023189349306407,760536563,CT,BOZRAH INTERNATIONAL MINISTRIES INC,927063\n",
      "5,202043219349317174,822282576,OH,ONECITY FOR RECOVERY INC,51184\n",
      "6,202013219349211076,470873877,LA,Grace Place Ministries Inc,164849\n",
      "7,202110539349200126,870420899,UT,UTAH ACADEMY OF GENERAL DENTISTRY,12617\n",
      "8,202033229349300123,450255772,ND,UNITED WAY OF GRAND FORKS EAST GRAND,565469\n"
     ]
    }
   ],
   "source": [
    "!head BIGData/46099.csv"
   ]
  },
  {
   "cell_type": "code",
   "execution_count": 4,
   "metadata": {},
   "outputs": [
    {
     "name": "stdout",
     "output_type": "stream",
     "text": [
      "root\n",
      " |-- State: string (nullable = true)\n",
      " |-- Revenue: integer (nullable = true)\n",
      "\n"
     ]
    },
    {
     "name": "stderr",
     "output_type": "stream",
     "text": [
      "                                                                                \r"
     ]
    },
    {
     "data": {
      "text/plain": [
       "{'NY': 26282974544,\n",
       " 'CA': 22599757286,\n",
       " 'PA': 14021197075,\n",
       " 'MO': 9767605990,\n",
       " 'TX': 8408306891,\n",
       " 'FL': 6441797903,\n",
       " 'OH': 6364770882,\n",
       " 'TN': 6352786890,\n",
       " 'GA': 6155584013,\n",
       " 'MD': 6043965992,\n",
       " 'VA': 5411817304,\n",
       " 'NC': 5311445382,\n",
       " 'WA': 4838719241,\n",
       " 'IL': 4763859142,\n",
       " 'MN': 4430065258,\n",
       " 'IN': 4276565192,\n",
       " 'NJ': 3866619086,\n",
       " 'MA': 3838411645,\n",
       " 'DC': 3286803190,\n",
       " 'MI': 3224375440,\n",
       " 'KY': 3165665585,\n",
       " 'IA': 2725559896,\n",
       " 'NH': 2717014995,\n",
       " 'WI': 2610280298,\n",
       " 'AZ': 2317167743,\n",
       " 'OR': 2296702694,\n",
       " 'SD': 2251631584,\n",
       " 'NE': 2024525833,\n",
       " 'CO': 1986296862,\n",
       " 'ME': 1911403229,\n",
       " 'CT': 1671984299,\n",
       " 'LA': 1642874943,\n",
       " 'DE': 1548520157,\n",
       " 'MT': 1419515866,\n",
       " 'OK': 1255335798,\n",
       " 'XX': 1113835035,\n",
       " 'ID': 1033109314,\n",
       " 'SC': 985934691,\n",
       " 'KS': 956909342,\n",
       " 'AL': 816325971,\n",
       " 'NV': 575109238,\n",
       " 'RI': 569357888,\n",
       " 'VT': 518079533,\n",
       " 'UT': 499304361,\n",
       " 'ND': 488519360,\n",
       " 'WY': 453860239,\n",
       " 'MS': 438280172,\n",
       " 'NM': 434322177,\n",
       " 'WV': 371067524,\n",
       " 'HI': 369879970,\n",
       " 'AK': 221611971,\n",
       " 'AR': 214148178,\n",
       " 'VI': 103234800,\n",
       " 'PR': 22377120,\n",
       " 'AE': 1911788,\n",
       " 'MP': 283051}"
      ]
     },
     "execution_count": 4,
     "metadata": {},
     "output_type": "execute_result"
    },
    {
     "name": "stdout",
     "output_type": "stream",
     "text": [
      "time: 2.36 s (started: 2022-02-06 10:00:45 +00:00)\n"
     ]
    }
   ],
   "source": [
    "# Aggregation als RDD\n",
    "two_col_df = df.drop(\"ObjectID\", \"EIN\", \"Name\", \"RevenueEZ\", \"_c0\") #col _c0 may (not) exist so drop or not drop it\n",
    "two_col_df.printSchema()\n",
    "rdd = two_col_df.rdd\n",
    "\n",
    "from operator import add\n",
    "reduced_rdd = rdd.reduceByKey(add).sortBy(lambda x: x[1], ascending = False)\n",
    "state_rev = reduced_rdd.collectAsMap()\n",
    "state_rev"
   ]
  },
  {
   "cell_type": "code",
   "execution_count": 14,
   "metadata": {},
   "outputs": [
    {
     "name": "stderr",
     "output_type": "stream",
     "text": [
      "/tmp/ipykernel_4546/800152943.py:18: DeprecationWarning: The background_patch property is deprecated. Use GeoAxes.patch instead.\n",
      "  ax.background_patch.set_visible(False)\n",
      "/tmp/ipykernel_4546/800152943.py:19: DeprecationWarning: The outline_patch property is deprecated. Use GeoAxes.spines['geo'] or the default Axes properties instead.\n",
      "  ax.outline_patch.set_visible(False)\n"
     ]
    },
    {
     "data": {
      "image/png": "[encoded data removed]",
      "text/plain": [
       "<Figure size 432x288 with 2 Axes>"
      ]
     },
     "metadata": {
      "needs_background": "light"
     },
     "output_type": "display_data"
    },
    {
     "name": "stdout",
     "output_type": "stream",
     "text": [
      "time: 849 ms (started: 2022-02-06 10:15:50 +00:00)\n"
     ]
    }
   ],
   "source": [
    "#!pip install cartopy\n",
    "import matplotlib.pyplot as plt\n",
    "import cartopy.crs as ccrs\n",
    "import cartopy.io.shapereader as shpreader\n",
    "from matplotlib.colors import rgb2hex, Normalize\n",
    "from matplotlib.colorbar import ColorbarBase\n",
    "from matplotlib import cm\n",
    "import numpy as np\n",
    "\n",
    "fig = plt.figure()\n",
    "ax = fig.add_axes([0, 0, 1, 1], projection=ccrs.LambertConformal())\n",
    "\n",
    "ax.set_extent([-125, -66.5, 20, 50], ccrs.Geodetic())\n",
    "\n",
    "shapename = 'admin_1_states_provinces_lakes'\n",
    "states_shp = shpreader.natural_earth(resolution='110m',\n",
    "                                     category='cultural', name=shapename)\n",
    "ax.background_patch.set_visible(False)\n",
    "ax.outline_patch.set_visible(False)\n",
    "\n",
    "ax.set_title('State Revenue')\n",
    "\n",
    "cmap = cm.get_cmap(\"YlGn\")\n",
    "min_val = min(state_rev.values())\n",
    "max_val = max(state_rev.values())\n",
    "\n",
    "for astate in shpreader.Reader(states_shp).records():\n",
    "\n",
    "    ### You want to replace the following code with code that sets the\n",
    "    ### facecolor as a gradient based on the population density above\n",
    "    #facecolor = [0.9375, 0.9375, 0.859375]\n",
    "\n",
    "    edgecolor = 'black'\n",
    "\n",
    "    try:\n",
    "        # use the name of this state to get pop_density\n",
    "        rev_one_state = state_rev[ astate.attributes['postal'] ]\n",
    "    except:\n",
    "        rev_one_state = 0\n",
    "\n",
    "    # `astate.geometry` is the polygon to plot\n",
    "    ax.add_geometries([astate.geometry], ccrs.PlateCarree(),\n",
    "                      facecolor=cmap(np.sqrt((rev_one_state-min_val)/(max_val-min_val)))[:3], edgecolor=edgecolor)\n",
    "    \n",
    "ax_c = fig.add_axes([0.9, 0.1, 0.03, 0.8])\n",
    "norm = Normalize(vmin=min_val, vmax=max_val)\n",
    "cb = ColorbarBase(ax_c,cmap=cmap,norm=norm,orientation='vertical',\n",
    "                  label=r'[revenue]')\n",
    "\n",
    "\n",
    "plt.show()"
   ]
  }
 ],
 "metadata": {
  "kernelspec": {
   "display_name": "PySpark",
   "language": "python",
   "name": "pyspark"
  },
  "language_info": {
   "codemirror_mode": {
    "name": "ipython",
    "version": 3
   },
   "file_extension": ".py",
   "mimetype": "text/x-python",
   "name": "python",
   "nbconvert_exporter": "python",
   "pygments_lexer": "ipython3",
   "version": "3.8.12"
  },
  "toc-showtags": false
 },
 "nbformat": 4,
 "nbformat_minor": 4
}
